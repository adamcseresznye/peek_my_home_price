{
 "cells": [
  {
   "cell_type": "raw",
   "id": "ecb309f7",
   "metadata": {},
   "source": [
    "---\n",
    "title: 'Peek My Home Price Part-2: Building a baseline model'\n",
    "author: Adam Cseresznye\n",
    "date: '2024-11-21'\n",
    "categories:\n",
    "  - Belgian Housing Market Insights\n",
    "jupyter: python3\n",
    "toc: true\n",
    "format:\n",
    "  html:\n",
    "    code-fold: true\n",
    "    code-tools: true\n",
    "---"
   ]
  },
  {
   "cell_type": "markdown",
   "id": "aab5a692-e95d-4785-8d85-ed1cc10b4056",
   "metadata": {
    "tags": []
   },
   "source": [
    "![Photo by Christian Allard UnSplash](https://images.unsplash.com/photo-1549407408-4b016f497e4d?q=80&w=2070&auto=format&fit=crop&ixlib=rb-4.0.3&ixid=M3wxMjA3fDB8MHxwaG90by1wYWdlfHx8fGVufDB8fHx8fA%3D%3D){fig-align=\"center\" width=50%}\n"
   ]
  },
  {
   "cell_type": "markdown",
   "id": "d8aaa7d0-ef8c-4c36-9c40-6de044a16c5d",
   "metadata": {},
   "source": [
    "In the preceding section, our emphasis was on establishing a fundamental understanding of our data through characterizing the cleaned scraped dataset. We dived into feature cardinality, distributions, and potential correlations with our target variable—property price. Moving on to Part 2, our agenda includes examining essential sample pre-processing steps before modeling. We will craft the necessary pipeline, assess multiple algorithms, and ultimately select a suitable baseline model. Let's get started!"
   ]
  },
  {
   "cell_type": "markdown",
   "id": "457f71f3-63db-4be9-a597-7ccdd44fc1e4",
   "metadata": {},
   "source": [
    "::: {.callout-note}\n",
    "You can explore the project's app on its [website](https://peek-my-home-price.fly.dev/). For more details, visit the [GitHub repository](https://github.com/adamcseresznye/peek_my_home_price).\n",
    "\n",
    "Check out the series for a deeper dive:\n",
    "- [Part 1: Characterizing the Data](https://adamcseresznye.github.io/blog/projects/peek_my_home_price/part-1_characterizing_the_data.html)\n",
    "- [Part 2: Building a Baseline Model](https://adamcseresznye.github.io/blog/projects/peek_my_home_price/part-2_building_a_baseline_model.html)\n",
    "- [Part 3: Feature Selection](https://adamcseresznye.github.io/blog/projects/peek_my_home_price/part-3_feature_selection.html)\n",
    "- [Part 4: Feature Engineering](https://adamcseresznye.github.io/blog/projects/peek_my_home_price/part-4_feature_engineering.html)\n",
    "- [Part 5: Fine-Tuning](https://adamcseresznye.github.io/blog/projects/peek_my_home_price/part-5_fine_tuning.html)\n",
    ":::"
   ]
  },
  {
   "cell_type": "markdown",
   "id": "7af189aa",
   "metadata": {},
   "source": [
    "# Import data"
   ]
  },
  {
   "cell_type": "code",
   "execution_count": null,
   "id": "cc3c6a54-530c-4491-bb08-3dfc054d78a6",
   "metadata": {
    "editable": true,
    "slideshow": {
     "slide_type": ""
    },
    "tags": []
   },
   "outputs": [],
   "source": [
    "import time\n",
    "import warnings\n",
    "from pathlib import Path\n",
    "\n",
    "import catboost\n",
    "import lightgbm as lgb\n",
    "import numpy as np\n",
    "import pandas as pd\n",
    "import xgboost\n",
    "from IPython.display import clear_output, display\n",
    "from lets_plot import *\n",
    "from lets_plot.mapping import as_discrete\n",
    "from sklearn import (\n",
    "    compose,\n",
    "    dummy,\n",
    "    ensemble,\n",
    "    impute,\n",
    "    linear_model,\n",
    "    metrics,\n",
    "    model_selection,\n",
    "    pipeline,\n",
    "    preprocessing,\n",
    "    svm,\n",
    "    tree,\n",
    ")\n",
    "from sklearn.base import BaseEstimator, TransformerMixin\n",
    "from tqdm import tqdm\n",
    "\n",
    "from helper import utils\n",
    "\n",
    "LetsPlot.setup_html()"
   ]
  },
  {
   "cell_type": "markdown",
   "id": "86846c91-1d46-4c2e-8fb2-72f5c5b8e8fd",
   "metadata": {},
   "source": [
    "# Prepare dataframe before modelling\n",
    "## Read in the processed file\n"
   ]
  },
  {
   "cell_type": "code",
   "execution_count": null,
   "id": "f38a1142-1fd1-4e4f-9ca4-08132b07fd0a",
   "metadata": {},
   "outputs": [],
   "source": [
    "utils.seed_everything(utils.Configuration.seed)\n",
    "\n",
    "df = (\n",
    "    pd.read_parquet(\n",
    "        Path.cwd()\n",
    "        .joinpath(\"data\")\n",
    "        .joinpath(\"2023-10-01_Processed_dataset_for_NB_use.gzip\")\n",
    "    )\n",
    "    .sample(frac=1, random_state=utils.Configuration.seed)\n",
    "    .reset_index(drop=True)\n",
    "    .assign(price=lambda df: np.log10(df.price))\n",
    ")\n",
    "\n",
    "print(f\"Shape of dataframe after read-in a pre-processing: {df.shape}\")\n",
    "X = df.drop(columns=utils.Configuration.target_col)\n",
    "y = df[utils.Configuration.target_col]\n",
    "\n",
    "print(f\"Shape of X: {X.shape}\")\n",
    "print(f\"Shape of y: {y.shape}\")"
   ]
  },
  {
   "cell_type": "markdown",
   "id": "0f6ea9ae-4cfe-4383-b0ec-d150d0c345e3",
   "metadata": {},
   "source": [
    "## Train-test split\n",
    "\n",
    "The subsequent phase in our data preparation involves the partitioning of our dataset into training and testing subsets. To accomplish this, we'll use the `model_selection.train_test_split` method. This step ensures that we have distinct sets for model training and evaluation, a fundamental practice in machine learning."
   ]
  },
  {
   "cell_type": "code",
   "execution_count": null,
   "id": "c8ca1977-bdfe-41c0-af59-8f97fe7c9be0",
   "metadata": {},
   "outputs": [],
   "source": [
    "X_train, X_test, y_train, y_test = model_selection.train_test_split(\n",
    "    X, y, test_size=0.2, random_state=utils.Configuration.seed\n",
    ")\n",
    "\n",
    "print(f\"Shape of X-train: {X_train.shape}\")\n",
    "print(f\"Shape of X-test: {X_test.shape}\")"
   ]
  },
  {
   "cell_type": "markdown",
   "id": "44f31d8c-4534-4008-8d87-6cfc438bb6e1",
   "metadata": {},
   "source": [
    "# Implementing the data-processing pipeline\n",
    "\n",
    "In order to compare various machine learning algorithms effectively, our initial approach will involve constructing a straightforward pipeline. This pipeline's primary objective is to segregate columns based on their data types, recognizing the need for distinct preprocessing steps for continuous (numerical) and categorical variables. To facilitate this process within our scikit-learn pipeline, we will begin by implementing a custom class named `FeatureSelector`.\n",
    "\n",
    "The rationale behind this is to establish a structured approach to feature handling. The `FeatureSelector` class will provide us with a streamlined means to access and process columns based on their data typess."
   ]
  },
  {
   "cell_type": "code",
   "execution_count": null,
   "id": "bce834b8-af04-492c-8798-d4498f701191",
   "metadata": {},
   "outputs": [],
   "source": [
    "class FeatureSelector(BaseEstimator, TransformerMixin):\n",
    "    \"\"\"\n",
    "    A transformer for selecting specific columns from a DataFrame.\n",
    "\n",
    "    This class inherits from the BaseEstimator and TransformerMixin classes from sklearn.base.\n",
    "    It overrides the fit and transform methods from the parent classes.\n",
    "\n",
    "    Attributes:\n",
    "        feature_names_in_ (list): The names of the features to select.\n",
    "        n_features_in_ (int): The number of features to select.\n",
    "\n",
    "    Methods:\n",
    "        fit(X, y=None): Fit the transformer. Returns self.\n",
    "        transform(X, y=None): Apply the transformation. Returns a DataFrame with selected features.\n",
    "    \"\"\"\n",
    "\n",
    "    def __init__(self, feature_names_in_):\n",
    "        \"\"\"\n",
    "        Constructs all the necessary attributes for the FeatureSelector object.\n",
    "\n",
    "        Args:\n",
    "            feature_names_in_ (list): The names of the features to select.\n",
    "        \"\"\"\n",
    "        self.feature_names_in_ = feature_names_in_\n",
    "        self.n_features_in_ = len(feature_names_in_)\n",
    "\n",
    "    def fit(self, X, y=None):\n",
    "        \"\"\"\n",
    "        Fit the transformer. This method doesn't do anything as no fitting is necessary.\n",
    "\n",
    "        Args:\n",
    "            X (DataFrame): The input data.\n",
    "            y (array-like, optional): The target variable. Defaults to None.\n",
    "\n",
    "        Returns:\n",
    "            self: The instance itself.\n",
    "        \"\"\"\n",
    "        return self\n",
    "\n",
    "    def transform(self, X, y=None):\n",
    "        \"\"\"\n",
    "        Apply the transformation. Selects the features from the input data.\n",
    "\n",
    "        Args:\n",
    "            X (DataFrame): The input data.\n",
    "            y (array-like, optional): The target variable. Defaults to None.\n",
    "\n",
    "        Returns:\n",
    "            DataFrame: A DataFrame with only the selected features.\n",
    "        \"\"\"\n",
    "        return X.loc[:, self.feature_names_in_].copy(deep=True)"
   ]
  },
  {
   "cell_type": "code",
   "execution_count": null,
   "id": "7eecbee6-000e-4806-92fd-3bb6826690d5",
   "metadata": {},
   "outputs": [],
   "source": [
    "# Selecting columns by dtypes\n",
    "\n",
    "numerical_columns = X_train.head().select_dtypes(\"number\").columns.to_list()\n",
    "categorical_columns = X_train.head().select_dtypes(\"object\").columns.to_list()"
   ]
  },
  {
   "cell_type": "markdown",
   "id": "f158c569-d3d5-4d2d-8c07-2e48324f45fc",
   "metadata": {},
   "source": [
    "Addressing missing values is a crucial preliminary step in our machine learning pipeline, as certain algorithms are sensitive to data gaps. To handle this, we'll employ imputation techniques tailored to the data types of the columns.\n",
    "\n",
    "For numerical columns, we'll adopt the \"median\" strategy for imputation. This approach involves replacing missing values with the median of the available data in the respective numerical column. It's a robust choice for handling missing values in numerical data as it's less sensitive to outliers.\n",
    "\n",
    "Conversely, for categorical columns, we'll opt for imputation using the most frequent values in each column. By filling in missing categorical data with the mode (most common value) for that column, we ensure that the imputed values align with the existing categorical distribution, preserving the integrity of the categorical features.\n",
    "\n",
    "This systematic approach to imputation sets a solid foundation for subsequent machine learning algorithms, ensuring that our dataset is well-prepared for analysis and modeling."
   ]
  },
  {
   "cell_type": "code",
   "execution_count": null,
   "id": "f601bd3f-a3cf-450b-8b95-83c638d7ef29",
   "metadata": {},
   "outputs": [],
   "source": [
    "# Prepare pipelines for corresponding columns:\n",
    "numerical_pipeline = pipeline.Pipeline(\n",
    "    steps=[\n",
    "        (\"num_selector\", FeatureSelector(numerical_columns)),\n",
    "        (\"imputer\", impute.SimpleImputer(strategy=\"median\")),\n",
    "        (\"std_scaler\", preprocessing.MinMaxScaler()),\n",
    "    ]\n",
    ")\n",
    "\n",
    "categorical_pipeline = pipeline.Pipeline(\n",
    "    steps=[\n",
    "        (\"cat_selector\", FeatureSelector(categorical_columns)),\n",
    "        (\"imputer\", impute.SimpleImputer(strategy=\"most_frequent\")),\n",
    "        (\n",
    "            \"onehot\",\n",
    "            preprocessing.OneHotEncoder(handle_unknown=\"ignore\", sparse_output=True),\n",
    "        ),\n",
    "    ]\n",
    ")"
   ]
  },
  {
   "cell_type": "markdown",
   "id": "37b68e2a-0940-4a11-ace5-0fcce4757149",
   "metadata": {},
   "source": [
    "Once we are satisfied with the individual pipelines designed for numerical and categorical feature processing, the next step involves merging them into a unified pipeline using the `FeatureUnion` method provided by `scikit-learn`."
   ]
  },
  {
   "cell_type": "code",
   "execution_count": null,
   "id": "25c61e2c-98a3-4ecc-91e4-2a1fb55785a9",
   "metadata": {},
   "outputs": [],
   "source": [
    "# Put all the pipelines inside a FeatureUnion:\n",
    "data_preprocessing_pipeline = pipeline.FeatureUnion(\n",
    "    n_jobs=-1,\n",
    "    transformer_list=[\n",
    "        (\"numerical_pipeline\", numerical_pipeline),\n",
    "        (\"categorical_pipeline\", categorical_pipeline),\n",
    "    ],\n",
    ")"
   ]
  },
  {
   "cell_type": "markdown",
   "id": "ecf35d5d-31dc-46ce-981d-c579a709d617",
   "metadata": {},
   "source": [
    "# Compare the performance of several algorithms\n",
    "\n",
    "Bringing all these components together in our machine learning pipeline is the culmination of our data preparation and model evaluation process. \n",
    "\n",
    "1. **Algorithm Selection**We choose a set of machine learning algorithms that we want to evaluate.\n",
    "\n",
    "2. **Data Split**: Here we use the `ShuffleSplit` method to generate randomized indices for our data into training and test sets. This ensures randomness in data selection and is crucial for unbiased evaluation.\n",
    "\n",
    "3. **Model Training and Evaluation**: For each selected algorwe followfollow these steps:\n",
    "   - Fit the model on the training data.\n",
    "   - Evaluate the model using negative mean squared error (`neg_mean_squared_error`), root mean squared log error (`mean_squared_log_error`) and coefficient of determination (`r2_score`) as the scoring metric.\n",
    "   - Record the training and test scores, as well as the standard deviation of scores\n",
    "   - Measure the time taken to fit each model, which provides insights into computational peformance.formance."
   ]
  },
  {
   "cell_type": "code",
   "execution_count": null,
   "id": "dfd649bd-cc18-4f89-bd45-2e11d4fe0ddf",
   "metadata": {},
   "outputs": [],
   "source": [
    "with warnings.catch_warnings():\n",
    "    warnings.simplefilter(action=\"ignore\", category=FutureWarning)\n",
    "\n",
    "    MLA = [\n",
    "        linear_model.LinearRegression(),\n",
    "        linear_model.SGDRegressor(),\n",
    "        linear_model.PassiveAggressiveRegressor(),\n",
    "        linear_model.RANSACRegressor(),\n",
    "        linear_model.Lasso(),\n",
    "        svm.SVR(),\n",
    "        ensemble.GradientBoostingRegressor(),\n",
    "        tree.DecisionTreeRegressor(),\n",
    "        ensemble.RandomForestRegressor(),\n",
    "        ensemble.ExtraTreesRegressor(),\n",
    "        ensemble.AdaBoostRegressor(),\n",
    "        catboost.CatBoostRegressor(silent=True),\n",
    "        lgb.LGBMRegressor(verbose=-1),\n",
    "        xgboost.XGBRegressor(verbosity=0),\n",
    "        dummy.DummyRegressor(),\n",
    "    ]\n",
    "\n",
    "    # note: this is an alternative to train_test_split\n",
    "    cv_split = model_selection.ShuffleSplit(\n",
    "        n_splits=10, test_size=0.3, train_size=0.6, random_state=0\n",
    "    )  # run model 10x with 60/30 split intentionally leaving out 10%\n",
    "\n",
    "    # create table to compare MLA metrics\n",
    "    MLA_columns = [\n",
    "        \"MLA Name\",\n",
    "        \"MLA Parameters\",\n",
    "        \"MLA Train RMSE Mean\",\n",
    "        \"MLA Test RMSE Mean\",\n",
    "        \"MLA Train RMSLE Mean\",\n",
    "        \"MLA Test RMSLE Mean\",\n",
    "        \"MLA Train R2 Mean\",\n",
    "        \"MLA Test R2 Mean\",\n",
    "        \"MLA Time\",\n",
    "    ]\n",
    "    MLA_compare = pd.DataFrame(columns=MLA_columns)\n",
    "\n",
    "    RMSLE = {\n",
    "        \"RMSLE\": metrics.make_scorer(metrics.mean_squared_log_error, squared=False)\n",
    "    }\n",
    "\n",
    "    # index through MLA and save performance to table\n",
    "    row_index = 0\n",
    "    for alg in tqdm(MLA):\n",
    "        # set name and parameters\n",
    "        MLA_name = alg.__class__.__name__\n",
    "        MLA_compare.loc[row_index, \"MLA Name\"] = MLA_name\n",
    "        MLA_compare.loc[row_index, \"MLA Parameters\"] = str(alg.get_params())\n",
    "\n",
    "        model_pipeline = pipeline.Pipeline(\n",
    "            steps=[\n",
    "                (\"data_preprocessing_pipeline\", data_preprocessing_pipeline),\n",
    "                (\"model\", alg),\n",
    "            ]\n",
    "        )\n",
    "\n",
    "        cv_results = model_selection.cross_validate(\n",
    "            model_pipeline,\n",
    "            X_train,\n",
    "            y_train,\n",
    "            cv=cv_split,\n",
    "            scoring={\n",
    "                \"RMSLE\": RMSLE[\"RMSLE\"],\n",
    "                \"r2\": \"r2\",\n",
    "                \"neg_mean_squared_error\": \"neg_mean_squared_error\",\n",
    "            },\n",
    "            return_train_score=True,\n",
    "        )\n",
    "\n",
    "        MLA_compare.loc[row_index, \"MLA Time\"] = cv_results[\"fit_time\"].mean()\n",
    "        MLA_compare.loc[row_index, \"MLA Train RMSE Mean\"] = cv_results[\n",
    "            \"train_neg_mean_squared_error\"\n",
    "        ].mean()\n",
    "        MLA_compare.loc[row_index, \"MLA Test RMSE Mean\"] = cv_results[\n",
    "            \"test_neg_mean_squared_error\"\n",
    "        ].mean()\n",
    "\n",
    "        MLA_compare.loc[row_index, \"MLA Train RMSLE Mean\"] = cv_results[\n",
    "            \"train_RMSLE\"\n",
    "        ].mean()\n",
    "        MLA_compare.loc[row_index, \"MLA Test RMSLE Mean\"] = cv_results[\n",
    "            \"test_RMSLE\"\n",
    "        ].mean()\n",
    "\n",
    "        MLA_compare.loc[row_index, \"MLA Train R2 Mean\"] = cv_results[\"train_r2\"].mean()\n",
    "        MLA_compare.loc[row_index, \"MLA Test R2 Mean\"] = cv_results[\"test_r2\"].mean()\n",
    "\n",
    "        row_index += 1\n",
    "\n",
    "        clear_output(wait=True)\n",
    "        # display(MLA_compare.sort_values(by=[\"MLA Test RMSLE Mean\"], ascending=True))\n",
    "(\n",
    "    MLA_compare.sort_values(by=[\"MLA Test RMSLE Mean\"], ascending=True)\n",
    "    .drop(columns=\"MLA Parameters\")\n",
    "    .convert_dtypes()\n",
    "    .set_index(\"MLA Name\")\n",
    "    .style.set_table_styles(\n",
    "        [\n",
    "            {\n",
    "                \"selector\": \"th.col_heading\",\n",
    "                \"props\": \"text-align: center; font-size: 1.0em;\",\n",
    "            },\n",
    "            {\"selector\": \"td\", \"props\": \"text-align: center;\"},\n",
    "            {\n",
    "                \"selector\": \"td:hover\",\n",
    "                \"props\": \"font-style: italic; color: black; font-weight:bold; background-color : #ffffb3;\",\n",
    "            },\n",
    "        ],\n",
    "        overwrite=False,\n",
    "    )\n",
    "    .format(precision=3, thousands=\",\", decimal=\".\")\n",
    "    .background_gradient(cmap=\"coolwarm\", axis=0)\n",
    ")"
   ]
  },
  {
   "cell_type": "markdown",
   "id": "28fda5bd-388c-44dd-bfad-c5bb2d5abd44",
   "metadata": {},
   "source": [
    "The table above clearly shows that the `CatBoostRegressor` has performed exceptionally well, achieving the best scores in RMSE, RMSLE, and R2 on the test set. It has outperformed the `LGBMRegressor`, `ExtraTreesRegressor`, `GradientBoostingRegressor`, and even the `XGBRegressor`.\n",
    "\n",
    "In the next section, we will dive deeper into optimizing our model. This will involve refining model settings, enhancing features, and employing techniques to improve our overall predictive accuracy. Looking forward to seeing you there!"
   ]
  }
 ],
 "metadata": {
  "kernelspec": {
   "display_name": "Python 3 (ipykernel)",
   "language": "python",
   "name": "python3"
  },
  "language_info": {
   "codemirror_mode": {
    "name": "ipython",
    "version": 3
   },
   "file_extension": ".py",
   "mimetype": "text/x-python",
   "name": "python",
   "nbconvert_exporter": "python",
   "pygments_lexer": "ipython3",
   "version": "3.11.9"
  },
  "toc-autonumbering": false,
  "toc-showcode": false,
  "toc-showmarkdowntxt": false,
  "varInspector": {
   "cols": {
    "lenName": 16,
    "lenType": 16,
    "lenVar": 40
   },
   "kernels_config": {
    "python": {
     "delete_cmd_postfix": "",
     "delete_cmd_prefix": "del ",
     "library": "var_list.py",
     "varRefreshCmd": "print(var_dic_list())"
    },
    "r": {
     "delete_cmd_postfix": ") ",
     "delete_cmd_prefix": "rm(",
     "library": "var_list.r",
     "varRefreshCmd": "cat(var_dic_list()) "
    }
   },
   "types_to_exclude": [
    "module",
    "function",
    "builtin_function_or_method",
    "instance",
    "_Feature"
   ],
   "window_display": false
  }
 },
 "nbformat": 4,
 "nbformat_minor": 5
}
